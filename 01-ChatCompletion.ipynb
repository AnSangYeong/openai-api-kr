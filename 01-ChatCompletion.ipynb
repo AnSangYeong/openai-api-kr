{
 "cells": [
  {
   "cell_type": "markdown",
   "metadata": {},
   "source": [
    "## 환경설정\n"
   ]
  },
  {
   "cell_type": "code",
   "execution_count": 2,
   "metadata": {},
   "outputs": [
    {
     "data": {
      "text/plain": [
       "True"
      ]
     },
     "execution_count": 2,
     "metadata": {},
     "output_type": "execute_result"
    }
   ],
   "source": [
    "# 토큰 정보로드를 위한 라이브러리\n",
    "# 설치: pip install python-dotenv\n",
    "from dotenv import load_dotenv\n",
    "\n",
    "# 토큰 정보로드\n",
    "load_dotenv()"
   ]
  },
  {
   "cell_type": "markdown",
   "metadata": {},
   "source": [
    "## Client 생성\n",
    "\n",
    "- `client` 는 OpenAI 모듈로 생성된 인스턴스 입니다.\n",
    "\n",
    "[주의] 아래의 코드에서 오류가 난다면 API 키의 오류일 가능성이 높습니다.\n"
   ]
  },
  {
   "cell_type": "code",
   "execution_count": 3,
   "metadata": {},
   "outputs": [
    {
     "data": {
      "text/plain": [
       "'1.12.0'"
      ]
     },
     "execution_count": 3,
     "metadata": {},
     "output_type": "execute_result"
    }
   ],
   "source": [
    "import openai\n",
    "\n",
    "openai.__version__"
   ]
  },
  {
   "cell_type": "code",
   "execution_count": 4,
   "metadata": {},
   "outputs": [
    {
     "data": {
      "text/plain": [
       "<openai.OpenAI at 0x127386e30>"
      ]
     },
     "execution_count": 4,
     "metadata": {},
     "output_type": "execute_result"
    }
   ],
   "source": [
    "from openai import OpenAI\n",
    "\n",
    "client = OpenAI()\n",
    "client"
   ]
  },
  {
   "cell_type": "markdown",
   "metadata": {},
   "source": [
    "## ChatCompletions\n",
    "\n",
    "- API Reference: https://platform.openai.com/docs/api-reference/chat\n",
    "\n",
    "**주요 파라미터**\n",
    "\n",
    "- `messages`: 지금까지의 대화를 구성하는 메시지 목록입니다.\n",
    "- `frequency_penalty`: -2.0에서 2.0 사이의 숫자. 양수 값은 지금까지 텍스트에 나타난 기존 빈도에 따라 새로운 토큰에 불이익을 주어 모델이 같은 줄을 그대로 반복할 가능성을 낮춥니다.\n",
    "- `max_tokens`: 생성할 수 있는 최대 토큰 수입니다. 입력 토큰과 생성된 토큰의 총 길이는 모델의 컨텍스트 길이에 의해 제한됩니다.\n",
    "- `n`: 각 입력 메시지에 대해 생성할 선택지(choices) 수입니다. [주의] 모든 선택 항목에서 생성된 토큰 수에 따라 요금이 부과된다는 점에 유의하세요. 비용을 최소화하려면 n을 1로 유지하세요.\n",
    "- `presence_penalty`: -2.0에서 2.0 사이의 숫자. 값이 양수이면 지금까지 텍스트에 등장한 토큰에 따라 새로운 토큰에 불이익을 주므로 모델이 새로운 주제에 대해 이야기할 가능성이 높아집니다.\n",
    "- `response_format`: 모델이 출력해야 하는 형식을 지정하는 객체입니다. `gpt-4-turbo-preview` 및 `gpt-3.5-turbo` 과 호환됩니다. `{ \"type\": \"json_object\" }` 로 설정하면 JSON 모드가 활성화되어 모델이 생성하는 메시지가 유효한 JSON임을 보장합니다.\n",
    "- `seed`: 이 기능을 지정하면 시스템이 결정론적으로 샘플링하여 동일한 시드와 매개변수를 사용한 반복 요청이 동일한 결과를 반환하도록 최선을 다할 것입니다. 결정론은 보장되지 않으며, `system_fingerprint` 응답 매개변수를 참조하여 백엔드의 변경 사항을 모니터링해야 합니다.\n",
    "- `temperature`: 0에서 2 사이에서 사용할 샘플링 온도입니다. 0.8과 같이 값이 높으면 출력이 더 무작위적이고, 0.2와 같이 값이 낮으면 더 집중적이고 결정론적인 출력이 됩니다. 일반적으로 이 값이나 `top_p` 중 하나만 변경하는 것이 좋지만 둘 다 변경하지는 않는 것이 좋습니다.\n",
    "- `top_p`: `temperature` 를 이용한 샘플링의 대안으로, 핵 샘플링이라고 하며, 모델이 `top_p` 확률을 가진 토큰의 결과를 고려하는 방식입니다. 따라서 0.1은 상위 10% 확률을 구성하는 토큰만 고려한다는 의미입니다. 일반적으로 이 값이나 `temperature` 중 하나를 변경하는 것이 좋지만 둘 다 변경하는 것은 권장하지 않습니다.\n"
   ]
  },
  {
   "cell_type": "code",
   "execution_count": 5,
   "metadata": {},
   "outputs": [],
   "source": [
    "completion = client.chat.completions.create(\n",
    "    model=\"gpt-3.5-turbo\",\n",
    "    messages=[\n",
    "        {\n",
    "            \"role\": \"system\",\n",
    "            \"content\": \"당신은 파이썬 프로그래머입니다.\",\n",
    "        },\n",
    "        {\n",
    "            \"role\": \"user\",\n",
    "            \"content\": \"피보나치 수열을 생성하는 파이썬 프로그램을 작성해주세요.\",\n",
    "        },\n",
    "    ],\n",
    ")"
   ]
  },
  {
   "cell_type": "code",
   "execution_count": 6,
   "metadata": {},
   "outputs": [
    {
     "name": "stdout",
     "output_type": "stream",
     "text": [
      "피보나치 수열은 이전 두 수를 더해서 다음 수를 만들어나가는 수열입니다. 아래는 피보나치 수열을 생성하는 간단한 파이썬 프로그램입니다.\n",
      "\n",
      "```python\n",
      "def fibonacci(n):\n",
      "    result = []\n",
      "    a, b = 0, 1\n",
      "    while len(result) < n:\n",
      "        result.append(a)\n",
      "        a, b = b, a + b\n",
      "    return result\n",
      "\n",
      "# 사용자로부터 몇 개의 피보나치 수를 생성할지 입력받습니다.\n",
      "num = int(input(\"피보나치 수열의 길이를 입력하세요: \"))\n",
      "\n",
      "# 입력받은 숫자만큼의 피보나치 수열을 생성합니다.\n",
      "fibonacci_seq = fibonacci(num)\n",
      "\n",
      "# 생성된 피보나치 수열을 출력합니다.\n",
      "print(fibonacci_seq)\n",
      "```\n",
      "\n",
      "이 프로그램은 사용자로부터 피보나치 수열의 길이를 입력받아, 해당 길이만큼의 피보나치 수열을 생성하고 출력합니다. 예를 들어, 사용자가 `5`를 입력하면 `[0, 1, 1, 2, 3]`을 출력합니다.\n"
     ]
    }
   ],
   "source": [
    "print(completion.choices[0].message.content)"
   ]
  },
  {
   "cell_type": "markdown",
   "metadata": {},
   "source": [
    "## 스트리밍(Streaming)\n",
    "\n",
    "스트리밍은 실시간으로 데이터를 전송하고 수신하는 프로세스입니다. 이 기능을 사용하면, 대화형 모델이 토큰 단위로 응답을 생성하고, 사용자는 모델이 응답을 생성하는 과정을 실시간으로 볼 수 있습니다. 이는 특히 긴 답변을 생성하는 경우 유용하며, 사용자에게 대화가 더 자연스럽고 동적으로 느껴지게 만듭니다.\n",
    "\n",
    "Jupyter Notebook에서 스트리밍 형식으로 실시간 답변을 출력하는 것은 다음과 같은 방법으로 수행할 수 있습니다.\n",
    "\n",
    "이때, create() 함수내에 stream=True 옵션을 지정하면 됩니다.\n",
    "\n",
    "또한, 토큰 단위로 실시간 출력을 위해서는 `completion` 을 순회하면서, `choices.delta.content` 를 출력해야 합니다.\n"
   ]
  },
  {
   "cell_type": "code",
   "execution_count": 7,
   "metadata": {},
   "outputs": [
    {
     "name": "stdout",
     "output_type": "stream",
     "text": [
      "피보나치 수열을 생성하는 파이썬 프로그램을 여러 방식으로 작성할 수 있습니다. 다음은 간단하고 기본적인 두 방식을 소개합니다.\n",
      "\n",
      "### 1. 반복문을 이용한 방법\n",
      "\n",
      "이 방식은 주어진 n에 대해 처음부터 n번째 항까지 피보나치 수를 계산합니다.\n",
      "\n",
      "```python\n",
      "def fibonacci(n):\n",
      "    if n <= 0:\n",
      "        return []\n",
      "    elif n == 1:\n",
      "        return [0]\n",
      "    elif n == 2:\n",
      "        return [0, 1]\n",
      "    \n",
      "    fib_series = [0, 1]  # 초기 두 항\n",
      "    for i in range(2, n):\n",
      "        next_fib = fib_series[i-1] + fib_series[i-2]  # 다음 항 계산\n",
      "        fib_series.append(next_fib)  # 시리즈에 추가\n",
      "    return fib_series\n",
      "\n",
      "# 예제 사용\n",
      "n = 10  # 상위 n개의 피보나치 수를 생성합니다.\n",
      "print(fibonacci(n))\n",
      "```\n",
      "\n",
      "### 2. 재귀적 방법\n",
      "\n",
      "이 방식은 재귀적 호출을 사용하여 피보나치 수를 계산합니다. 대량의 수를 계산할 때는 비효율적일 수 있습니다.\n",
      "\n",
      "```python\n",
      "def fibonacci_recursive(n, computed={0: 0, 1: 1}):\n",
      "    if n in computed:  # 이미 계산된 값이면 반환\n",
      "        return computed[n]\n",
      "    computed[n] = fibonacci_recursive(n-1, computed) + fibonacci_recursive(n-2, computed)  # 새로운 값 계산\n",
      "    return computed[n]\n",
      "\n",
      "# n번째 항까지의 피보나치 수열을 얻기 위한 함수\n",
      "def fibonacci_series(n):\n",
      "    if n < 0:\n",
      "        return \"n should be a positive integer\"\n",
      "    series = [fibonacci_recursive(i) for i in range(n)]\n",
      "    return series\n",
      "\n",
      "# 예제 사용\n",
      "n = 10\n",
      "print(fibonacci_series(n))\n",
      "```\n",
      "\n",
      "두 번째 방법(재귀적 방법)은 더 작은 입력 값에 대해 더 적합합니다. 입력 값이 커지면 재귀 호출의 깊이가 급격히 증가하여 프로그램의 성능이 저하될 수 있습니다. 그러나, 이 예제에서는 함수 실행 간에 계산된 값을 저장하므로 performance는 크게 향상됩니다.\n",
      "\n",
      "첫 번째 방법(반복문 이용)은 더 큰 수에 대해서도 효율적으로 동작합니다."
     ]
    }
   ],
   "source": [
    "from openai import OpenAI\n",
    "\n",
    "client = OpenAI()\n",
    "\n",
    "completion = client.chat.completions.create(\n",
    "    model=\"gpt-4-turbo-preview\",\n",
    "    messages=[\n",
    "        {\n",
    "            \"role\": \"system\",\n",
    "            \"content\": \"당신은 파이썬 프로그래머입니다.\",\n",
    "        },\n",
    "        {\n",
    "            \"role\": \"user\",\n",
    "            \"content\": \"피보나치 수열을 생성하는 파이썬 프로그램을 작성해주세요.\",\n",
    "        },\n",
    "    ],\n",
    "    stream=True,  # 스트림 모드 활성화\n",
    ")\n",
    "\n",
    "final_answer = []\n",
    "\n",
    "# 스트림 모드에서는 completion.choices 를 반복문으로 순회\n",
    "for chunk in completion:\n",
    "    # chunk 를 저장\n",
    "    chunk_content = chunk.choices[0].delta.content\n",
    "    # chunk 가 문자열이면 final_answer 에 추가\n",
    "    if isinstance(chunk_content, str):\n",
    "        final_answer.append(chunk_content)\n",
    "        # 토큰 단위로 실시간 답변 출력\n",
    "        print(chunk_content, end=\"\")"
   ]
  },
  {
   "cell_type": "code",
   "execution_count": 8,
   "metadata": {},
   "outputs": [
    {
     "name": "stdout",
     "output_type": "stream",
     "text": [
      "피보나치 수열을 생성하는 파이썬 프로그램을 여러 방식으로 작성할 수 있습니다. 다음은 간단하고 기본적인 두 방식을 소개합니다.\n",
      "\n",
      "### 1. 반복문을 이용한 방법\n",
      "\n",
      "이 방식은 주어진 n에 대해 처음부터 n번째 항까지 피보나치 수를 계산합니다.\n",
      "\n",
      "```python\n",
      "def fibonacci(n):\n",
      "    if n <= 0:\n",
      "        return []\n",
      "    elif n == 1:\n",
      "        return [0]\n",
      "    elif n == 2:\n",
      "        return [0, 1]\n",
      "    \n",
      "    fib_series = [0, 1]  # 초기 두 항\n",
      "    for i in range(2, n):\n",
      "        next_fib = fib_series[i-1] + fib_series[i-2]  # 다음 항 계산\n",
      "        fib_series.append(next_fib)  # 시리즈에 추가\n",
      "    return fib_series\n",
      "\n",
      "# 예제 사용\n",
      "n = 10  # 상위 n개의 피보나치 수를 생성합니다.\n",
      "print(fibonacci(n))\n",
      "```\n",
      "\n",
      "### 2. 재귀적 방법\n",
      "\n",
      "이 방식은 재귀적 호출을 사용하여 피보나치 수를 계산합니다. 대량의 수를 계산할 때는 비효율적일 수 있습니다.\n",
      "\n",
      "```python\n",
      "def fibonacci_recursive(n, computed={0: 0, 1: 1}):\n",
      "    if n in computed:  # 이미 계산된 값이면 반환\n",
      "        return computed[n]\n",
      "    computed[n] = fibonacci_recursive(n-1, computed) + fibonacci_recursive(n-2, computed)  # 새로운 값 계산\n",
      "    return computed[n]\n",
      "\n",
      "# n번째 항까지의 피보나치 수열을 얻기 위한 함수\n",
      "def fibonacci_series(n):\n",
      "    if n < 0:\n",
      "        return \"n should be a positive integer\"\n",
      "    series = [fibonacci_recursive(i) for i in range(n)]\n",
      "    return series\n",
      "\n",
      "# 예제 사용\n",
      "n = 10\n",
      "print(fibonacci_series(n))\n",
      "```\n",
      "\n",
      "두 번째 방법(재귀적 방법)은 더 작은 입력 값에 대해 더 적합합니다. 입력 값이 커지면 재귀 호출의 깊이가 급격히 증가하여 프로그램의 성능이 저하될 수 있습니다. 그러나, 이 예제에서는 함수 실행 간에 계산된 값을 저장하므로 performance는 크게 향상됩니다.\n",
      "\n",
      "첫 번째 방법(반복문 이용)은 더 큰 수에 대해서도 효율적으로 동작합니다.\n"
     ]
    }
   ],
   "source": [
    "# 전체 답변인 final_answer 를 문자열로 변환하여 출력\n",
    "final_answer = \"\".join(final_answer)\n",
    "print(final_answer)"
   ]
  },
  {
   "cell_type": "markdown",
   "metadata": {},
   "source": [
    "## 연쇄적인 대화\n"
   ]
  },
  {
   "cell_type": "markdown",
   "metadata": {},
   "source": [
    "`client.chat.completions.create()` 함수는 자체적으로 대화를 저장하는 기능이 없습니다.\n",
    "\n",
    "따라서, 이전 문맥(context)을 기억하면서 대화를 이어나가기 위해서는(일반적인 ChatBot을 생각하시면 됩니다) 다음과 같이 `messages` 옵션에 메시지를 추가해야 합니다.\n",
    "\n",
    "messages는 대화의 각 부분을 구성하는 데 사용되며, 각 메시지는 \"role\"과 \"content\"라는 두 가지 주요 요소를 포함하는 딕셔너리 형태로 되어 있습니다. 이 구조를 사용하면 복잡한 대화 흐름을 더 명확하게 관리하고 조작할 수 있습니다.\n",
    "\n",
    "각 \"role\"의 의미는 다음과 같습니다:\n",
    "\n",
    "- \"system\": 시스템 전역 설정에 대한 지시문을 포함합니다. 예를 들어, 모델에 특정한 페르소나(persona)를 부여하거나, 대화의 맥락을 설정하는 데 사용됩니다.\n",
    "- \"user\": 사용자의 입력을 나타냅니다. 이는 대화에서 사용자가 질문하거나 요청한 내용을 담고 있습니다.\n",
    "- \"assistant\": AI 모델(예: ChatGPT)의 응답을 나타냅니다. 이는 모델이 생성한 답변이나 정보를 포함합니다.\n"
   ]
  },
  {
   "cell_type": "code",
   "execution_count": 9,
   "metadata": {},
   "outputs": [
    {
     "name": "stdout",
     "output_type": "stream",
     "text": [
      "대한민국의 수도는 서울입니다.\n"
     ]
    }
   ],
   "source": [
    "completion = client.chat.completions.create(\n",
    "    model=\"gpt-3.5-turbo\",\n",
    "    messages=[\n",
    "        {\n",
    "            \"role\": \"system\",\n",
    "            \"content\": \"You are a helpful assistant. You must answer in Korean.\",\n",
    "        },\n",
    "        {\n",
    "            \"role\": \"user\",\n",
    "            \"content\": \"대한민국의 수도는 어디인가요?\",\n",
    "        },\n",
    "    ],\n",
    ")\n",
    "\n",
    "print(completion.choices[0].message.content)"
   ]
  },
  {
   "cell_type": "code",
   "execution_count": 10,
   "metadata": {},
   "outputs": [],
   "source": [
    "def ask(question):\n",
    "    completion = client.chat.completions.create(\n",
    "        model=\"gpt-3.5-turbo\",\n",
    "        messages=[\n",
    "            {\n",
    "                \"role\": \"system\",\n",
    "                \"content\": \"You are a helpful assistant. You must answer in Korean.\",\n",
    "            },\n",
    "            {\n",
    "                \"role\": \"user\",\n",
    "                \"content\": question,  # 사용자의 질문을 입력\n",
    "            },\n",
    "        ],\n",
    "    )\n",
    "    # 답변을 반환\n",
    "    return completion.choices[0].message.content"
   ]
  },
  {
   "cell_type": "code",
   "execution_count": 11,
   "metadata": {},
   "outputs": [
    {
     "data": {
      "text/plain": [
       "'대한민국의 수도는 서울입니다.'"
      ]
     },
     "execution_count": 11,
     "metadata": {},
     "output_type": "execute_result"
    }
   ],
   "source": [
    "# 첫 번째 질문\n",
    "ask(\"대한민국의 수도는 어디인가요?\")"
   ]
  },
  {
   "cell_type": "code",
   "execution_count": 12,
   "metadata": {},
   "outputs": [
    {
     "data": {
      "text/plain": [
       "'네, 어떤 도움이 필요하신가요? 저는 한국어로 답변을 드릴 수 있습니다.'"
      ]
     },
     "execution_count": 12,
     "metadata": {},
     "output_type": "execute_result"
    }
   ],
   "source": [
    "# 두 번째 질문\n",
    "ask(\"영어로 답변해 주세요\")"
   ]
  },
  {
   "cell_type": "markdown",
   "metadata": {},
   "source": [
    "위의 답변에서 보듯이, GPT가 **다음 질문에 대한 답변을 잘못했습니다.** 이는 이전 대화내용에 대한 **저장을 하지 않았기 때문** 입니다.\n",
    "\n",
    "이를 해결하기 위해, 대화의 연속성을 유지하는 로직을 추가해야 합니다. 대화의 각 부분(사용자의 질문과 AI의 응답)을 messages 리스트에 순차적으로 추가함으로써, 챗봇은 이전의 대화 내용을 참조하여 적절한 답변을 생성할 수 있습니다.\n"
   ]
  },
  {
   "cell_type": "code",
   "execution_count": 13,
   "metadata": {},
   "outputs": [
    {
     "name": "stdout",
     "output_type": "stream",
     "text": [
      "The capital of South Korea is Seoul.\n"
     ]
    }
   ],
   "source": [
    "completion = client.chat.completions.create(\n",
    "    model=\"gpt-3.5-turbo\",\n",
    "    messages=[\n",
    "        {\n",
    "            \"role\": \"system\",\n",
    "            \"content\": \"You are a helpful assistant. You must answer in Korean.\",\n",
    "        },\n",
    "        {\n",
    "            \"role\": \"user\",\n",
    "            \"content\": \"대한민국의 수도는 어디인가요?\",  # 첫 번째 질문\n",
    "        },\n",
    "        {\n",
    "            \"role\": \"assistant\",\n",
    "            \"content\": \"대한민국의 수도는 서울입니다.\",  # 첫 번째 답변\n",
    "        },\n",
    "        {\n",
    "            \"role\": \"user\",\n",
    "            \"content\": \"이전의 답변을 영어로 번역해 주세요.\",  # 두 번째 질문\n",
    "        },\n",
    "    ],\n",
    ")\n",
    "\n",
    "# 두 번째 답변을 출력\n",
    "print(completion.choices[0].message.content)"
   ]
  },
  {
   "cell_type": "markdown",
   "metadata": {},
   "source": [
    "좀 더 깔끔하게 함수화하여 구현해 보겠습니다.\n"
   ]
  },
  {
   "cell_type": "code",
   "execution_count": 14,
   "metadata": {},
   "outputs": [],
   "source": [
    "def ask(question, message_history=[], model=\"gpt-3.5-turbo\"):\n",
    "    if len(message_history) == 0:\n",
    "        # 최초 질문\n",
    "        message_history.append(\n",
    "            {\n",
    "                \"role\": \"system\",\n",
    "                \"content\": \"You are a helpful assistant. You must answer in Korean.\",\n",
    "            }\n",
    "        )\n",
    "\n",
    "    # 사용자 질문 추가\n",
    "    message_history.append(\n",
    "        {\n",
    "            \"role\": \"user\",\n",
    "            \"content\": question,\n",
    "        },\n",
    "    )\n",
    "\n",
    "    # GPT에 질문을 전달하여 답변을 생성\n",
    "    completion = client.chat.completions.create(\n",
    "        model=model,\n",
    "        messages=message_history,\n",
    "    )\n",
    "\n",
    "    # 사용자 질문에 대한 답변을 추가\n",
    "    message_history.append(\n",
    "        {\"role\": \"assistant\", \"content\": completion.choices[0].message.content}\n",
    "    )\n",
    "\n",
    "    return message_history"
   ]
  },
  {
   "cell_type": "code",
   "execution_count": 15,
   "metadata": {},
   "outputs": [
    {
     "name": "stdout",
     "output_type": "stream",
     "text": [
      "{'role': 'assistant', 'content': '대한민국의 수도는 서울입니다.'}\n"
     ]
    }
   ],
   "source": [
    "# 최초 질문\n",
    "message_history = ask(\"대한민국의 수도는 어디인가요?\", message_history=[])\n",
    "# 최초 답변\n",
    "print(message_history[-1])"
   ]
  },
  {
   "cell_type": "code",
   "execution_count": 16,
   "metadata": {},
   "outputs": [
    {
     "name": "stdout",
     "output_type": "stream",
     "text": [
      "{'role': 'assistant', 'content': 'The capital of South Korea is Seoul.'}\n"
     ]
    }
   ],
   "source": [
    "# 두 번째 질문\n",
    "message_history = ask(\n",
    "    \"이전의 내용을 영어로 답변해 주세요\", message_history=message_history\n",
    ")\n",
    "# 두 번째 답변\n",
    "print(message_history[-1])"
   ]
  },
  {
   "cell_type": "markdown",
   "metadata": {},
   "source": [
    "이번에는 이전 대화내용을 `message_history` 에 저장하여 전달하였습니다. 이전 대화내용을 저장하면서 `message_history` 를 통해 대화를 이어나갈 수 있습니다.\n"
   ]
  },
  {
   "cell_type": "markdown",
   "metadata": {},
   "source": [
    "## json_object 답변형식\n",
    "\n",
    "이번에는 GPT 의 출력 형식을 지정하는 방법을 살펴보겠습니다. 다음의 예시는 프롬프트를 활용하여 답변을 JSON 형식으로 받는 예제 입니다.\n"
   ]
  },
  {
   "cell_type": "code",
   "execution_count": 17,
   "metadata": {},
   "outputs": [
    {
     "name": "stdout",
     "output_type": "stream",
     "text": [
      "{\"answer\": \"서울\"}\n"
     ]
    }
   ],
   "source": [
    "completion = client.chat.completions.create(\n",
    "    model=\"gpt-3.5-turbo-1106\",\n",
    "    messages=[\n",
    "        {\n",
    "            \"role\": \"system\",\n",
    "            # 답변 형식을 JSON 으로 받기 위해 프롬프트에 JSON 형식을 지정\n",
    "            \"content\": \"You are a helpful assistant designed to output JSON. You must answer in Korean.\",\n",
    "        },\n",
    "        {\n",
    "            \"role\": \"user\",\n",
    "            \"content\": \"대한민국의 수도는 어디인가요?\",\n",
    "        },\n",
    "    ],\n",
    "    response_format={\"type\": \"json_object\"},  # 답변 형식을 JSON 으로 지정\n",
    ")\n",
    "\n",
    "print(completion.choices[0].message.content)"
   ]
  },
  {
   "cell_type": "code",
   "execution_count": 18,
   "metadata": {},
   "outputs": [
    {
     "name": "stdout",
     "output_type": "stream",
     "text": [
      "{\n",
      "  \"question\": \"다음 중 통계학에서 사용되는 중요한 개념은 무엇인가요?\",\n",
      "  \"options\": [\"평균\", \"사분위수\", \"절대값\", \"삼각함수\"]\n",
      "}\n"
     ]
    }
   ],
   "source": [
    "response = client.chat.completions.create(\n",
    "    model=\"gpt-3.5-turbo-1106\",\n",
    "    response_format={\"type\": \"json_object\"},\n",
    "    messages=[\n",
    "        {\n",
    "            \"role\": \"system\",\n",
    "            \"content\": \"You are a helpful assistant designed to output JSON.\",\n",
    "        },\n",
    "        {\n",
    "            \"role\": \"user\",\n",
    "            \"content\": \"통계를 주제로 4지선다형 객관식 문제를 만들어주세요.\",\n",
    "        },\n",
    "    ],\n",
    "    temperature=0.5,\n",
    "    max_tokens=300,\n",
    ")\n",
    "print(response.choices[0].message.content)"
   ]
  },
  {
   "cell_type": "markdown",
   "metadata": {},
   "source": [
    "`response_format={\"type\": \"json_object\"}` 으로 출력시 json 형태로 출력되는 것을 확인할 수 있습니다.\n",
    "\n",
    "`json` 형식으로 출력 값을 받으면 데이터베이스에 저장하거나 파일형태로 저장하는데 용이합니다.\n"
   ]
  },
  {
   "cell_type": "code",
   "execution_count": 19,
   "metadata": {},
   "outputs": [],
   "source": [
    "response = client.chat.completions.create(\n",
    "    model=\"gpt-3.5-turbo-1106\",\n",
    "    response_format={\"type\": \"json_object\"},\n",
    "    messages=[\n",
    "        {\n",
    "            \"role\": \"system\",\n",
    "            \"content\": \"You are a helpful assistant designed to output JSON.\",\n",
    "        },\n",
    "        {\n",
    "            \"role\": \"user\",\n",
    "            \"content\": \"통계를 주제로 4지선다형 객관식 문제를 만들어주세요. 정답은 index 번호로 알려주세요. \"\n",
    "            \"난이도는 [상, 중, 하] 중 하나로 표기해 주세요.\",\n",
    "        },\n",
    "    ],\n",
    "    temperature=0.5,\n",
    "    max_tokens=300,\n",
    "    n=5,\n",
    ")"
   ]
  },
  {
   "cell_type": "markdown",
   "metadata": {},
   "source": [
    "5개의 결과 값을 출력합니다.\n"
   ]
  },
  {
   "cell_type": "code",
   "execution_count": 20,
   "metadata": {},
   "outputs": [
    {
     "name": "stdout",
     "output_type": "stream",
     "text": [
      "{\n",
      "  \"question\": \"다음 중 통계학에서 사용되는 가설 검정 방법이 아닌 것은?\",\n",
      "  \"options\": [\"t-검정\", \"카이제곱 검정\", \"분산 분석\", \"상관 분석\"],\n",
      "  \"answer_index\": 3,\n",
      "  \"difficulty\": \"중\"\n",
      "}\n",
      "{\n",
      "  \"question\": \"다음 중 통계적 용어가 아닌 것은 무엇인가요?\",\n",
      "  \"options\": [\"평균\", \"사분위수\", \"바이오메트릭\", \"표준편차\"],\n",
      "  \"answer_index\": 2,\n",
      "  \"difficulty\": \"중\"\n",
      "}\n",
      "{\n",
      "  \"question\": \"다음 중 통계를 계산하는 데 사용되는 기본적인 측정 지표는 무엇인가요?\",\n",
      "  \"options\": [\"평균\", \"중간값\", \"최빈값\", \"표준편차\"],\n",
      "  \"answer_index\": 0,\n",
      "  \"difficulty\": \"중\"\n",
      "}\n",
      "{\n",
      "  \"question\": \"다음 중 통계학에서 사용되는 가설검정 방법으로, 귀무가설이 기각되지 않을 확률을 나타내는 것은?\",\n",
      "  \"options\": [\"p-값\", \"t-값\", \"유의수준\", \"자유도\"],\n",
      "  \"answer_index\": 0,\n",
      "  \"difficulty\": \"중\"\n",
      "}\n",
      "{\n",
      "  \"question\": \"다음 중 통계학에서 사용되는 가설 검정 방법이 아닌 것은?\",\n",
      "  \"options\": [\"t-검정\", \"카이제곱 검정\", \"이분산 분석\", \"상관 분석\"],\n",
      "  \"answer_index\": 2,\n",
      "  \"difficulty\": \"중\"\n",
      "}\n"
     ]
    }
   ],
   "source": [
    "for res in response.choices:\n",
    "    print(res.message.content)"
   ]
  },
  {
   "cell_type": "markdown",
   "metadata": {},
   "source": [
    "아래의 코드는 json 라이브러리를 사용하여 JSON 형식의 답변을 파이썬 객체로 변환하는 코드입니다.\n"
   ]
  },
  {
   "cell_type": "code",
   "execution_count": 21,
   "metadata": {},
   "outputs": [
    {
     "data": {
      "text/plain": [
       "{'question': '다음 중 통계학에서 사용되는 가설 검정 방법이 아닌 것은?',\n",
       " 'options': ['t-검정', '카이제곱 검정', '이분산 분석', '상관 분석'],\n",
       " 'answer_index': 2,\n",
       " 'difficulty': '중'}"
      ]
     },
     "execution_count": 21,
     "metadata": {},
     "output_type": "execute_result"
    }
   ],
   "source": [
    "import json\n",
    "\n",
    "# JSON 형식의 답변을 파이썬 객체로 변환\n",
    "json_obj = json.loads(res.message.content)\n",
    "json_obj"
   ]
  },
  {
   "cell_type": "code",
   "execution_count": 22,
   "metadata": {},
   "outputs": [
    {
     "data": {
      "text/plain": [
       "dict"
      ]
     },
     "execution_count": 22,
     "metadata": {},
     "output_type": "execute_result"
    }
   ],
   "source": [
    "# type 함수로 json_obj 의 타입을 확인: dict 타입\n",
    "type(json_obj)"
   ]
  },
  {
   "cell_type": "code",
   "execution_count": 23,
   "metadata": {},
   "outputs": [
    {
     "data": {
      "text/plain": [
       "[{'question': '다음 중 통계학에서 사용되는 가설 검정 방법이 아닌 것은?',\n",
       "  'options': ['t-검정', '카이제곱 검정', '분산 분석', '상관 분석'],\n",
       "  'answer_index': 3,\n",
       "  'difficulty': '중'},\n",
       " {'question': '다음 중 통계적 용어가 아닌 것은 무엇인가요?',\n",
       "  'options': ['평균', '사분위수', '바이오메트릭', '표준편차'],\n",
       "  'answer_index': 2,\n",
       "  'difficulty': '중'},\n",
       " {'question': '다음 중 통계를 계산하는 데 사용되는 기본적인 측정 지표는 무엇인가요?',\n",
       "  'options': ['평균', '중간값', '최빈값', '표준편차'],\n",
       "  'answer_index': 0,\n",
       "  'difficulty': '중'},\n",
       " {'question': '다음 중 통계학에서 사용되는 가설검정 방법으로, 귀무가설이 기각되지 않을 확률을 나타내는 것은?',\n",
       "  'options': ['p-값', 't-값', '유의수준', '자유도'],\n",
       "  'answer_index': 0,\n",
       "  'difficulty': '중'},\n",
       " {'question': '다음 중 통계학에서 사용되는 가설 검정 방법이 아닌 것은?',\n",
       "  'options': ['t-검정', '카이제곱 검정', '이분산 분석', '상관 분석'],\n",
       "  'answer_index': 2,\n",
       "  'difficulty': '중'}]"
      ]
     },
     "execution_count": 23,
     "metadata": {},
     "output_type": "execute_result"
    }
   ],
   "source": [
    "# 모든 json 형식의 답변을 파이썬 객체로 변환\n",
    "json_result = [json.loads(res.message.content) for res in response.choices]\n",
    "json_result"
   ]
  },
  {
   "cell_type": "markdown",
   "metadata": {},
   "source": [
    "아래는 Pandas 라이브러리를 사용하여 Python dictionary를 데이터프레임으로 변환하는 코드입니다.\n"
   ]
  },
  {
   "cell_type": "code",
   "execution_count": 24,
   "metadata": {},
   "outputs": [
    {
     "data": {
      "text/html": [
       "<div>\n",
       "<style scoped>\n",
       "    .dataframe tbody tr th:only-of-type {\n",
       "        vertical-align: middle;\n",
       "    }\n",
       "\n",
       "    .dataframe tbody tr th {\n",
       "        vertical-align: top;\n",
       "    }\n",
       "\n",
       "    .dataframe thead th {\n",
       "        text-align: right;\n",
       "    }\n",
       "</style>\n",
       "<table border=\"1\" class=\"dataframe\">\n",
       "  <thead>\n",
       "    <tr style=\"text-align: right;\">\n",
       "      <th></th>\n",
       "      <th>question</th>\n",
       "      <th>options</th>\n",
       "      <th>answer_index</th>\n",
       "      <th>difficulty</th>\n",
       "    </tr>\n",
       "  </thead>\n",
       "  <tbody>\n",
       "    <tr>\n",
       "      <th>0</th>\n",
       "      <td>다음 중 통계학에서 사용되는 가설 검정 방법이 아닌 것은?</td>\n",
       "      <td>[t-검정, 카이제곱 검정, 분산 분석, 상관 분석]</td>\n",
       "      <td>3</td>\n",
       "      <td>중</td>\n",
       "    </tr>\n",
       "    <tr>\n",
       "      <th>1</th>\n",
       "      <td>다음 중 통계적 용어가 아닌 것은 무엇인가요?</td>\n",
       "      <td>[평균, 사분위수, 바이오메트릭, 표준편차]</td>\n",
       "      <td>2</td>\n",
       "      <td>중</td>\n",
       "    </tr>\n",
       "    <tr>\n",
       "      <th>2</th>\n",
       "      <td>다음 중 통계를 계산하는 데 사용되는 기본적인 측정 지표는 무엇인가요?</td>\n",
       "      <td>[평균, 중간값, 최빈값, 표준편차]</td>\n",
       "      <td>0</td>\n",
       "      <td>중</td>\n",
       "    </tr>\n",
       "    <tr>\n",
       "      <th>3</th>\n",
       "      <td>다음 중 통계학에서 사용되는 가설검정 방법으로, 귀무가설이 기각되지 않을 확률을 나...</td>\n",
       "      <td>[p-값, t-값, 유의수준, 자유도]</td>\n",
       "      <td>0</td>\n",
       "      <td>중</td>\n",
       "    </tr>\n",
       "    <tr>\n",
       "      <th>4</th>\n",
       "      <td>다음 중 통계학에서 사용되는 가설 검정 방법이 아닌 것은?</td>\n",
       "      <td>[t-검정, 카이제곱 검정, 이분산 분석, 상관 분석]</td>\n",
       "      <td>2</td>\n",
       "      <td>중</td>\n",
       "    </tr>\n",
       "  </tbody>\n",
       "</table>\n",
       "</div>"
      ],
      "text/plain": [
       "                                            question  \\\n",
       "0                   다음 중 통계학에서 사용되는 가설 검정 방법이 아닌 것은?   \n",
       "1                          다음 중 통계적 용어가 아닌 것은 무엇인가요?   \n",
       "2            다음 중 통계를 계산하는 데 사용되는 기본적인 측정 지표는 무엇인가요?   \n",
       "3  다음 중 통계학에서 사용되는 가설검정 방법으로, 귀무가설이 기각되지 않을 확률을 나...   \n",
       "4                   다음 중 통계학에서 사용되는 가설 검정 방법이 아닌 것은?   \n",
       "\n",
       "                          options  answer_index difficulty  \n",
       "0   [t-검정, 카이제곱 검정, 분산 분석, 상관 분석]             3          중  \n",
       "1        [평균, 사분위수, 바이오메트릭, 표준편차]             2          중  \n",
       "2            [평균, 중간값, 최빈값, 표준편차]             0          중  \n",
       "3           [p-값, t-값, 유의수준, 자유도]             0          중  \n",
       "4  [t-검정, 카이제곱 검정, 이분산 분석, 상관 분석]             2          중  "
      ]
     },
     "execution_count": 24,
     "metadata": {},
     "output_type": "execute_result"
    }
   ],
   "source": [
    "import pandas as pd\n",
    "\n",
    "# 데이터프레임으로 변환\n",
    "df = pd.DataFrame(json_result)\n",
    "df.head()"
   ]
  },
  {
   "cell_type": "code",
   "execution_count": 25,
   "metadata": {},
   "outputs": [],
   "source": [
    "# 데이터프레임을 csv 파일로 저장\n",
    "df.to_csv(\"stats_quiz.csv\", index=False)"
   ]
  },
  {
   "cell_type": "code",
   "execution_count": null,
   "metadata": {},
   "outputs": [],
   "source": [
    "# 데이터프레임을 엑셀 파일로 저장\n",
    "df.to_excel(\"stats_quiz.xlsx\", index=False)"
   ]
  }
 ],
 "metadata": {
  "kernelspec": {
   "display_name": "base",
   "language": "python",
   "name": "python3"
  },
  "language_info": {
   "codemirror_mode": {
    "name": "ipython",
    "version": 3
   },
   "file_extension": ".py",
   "mimetype": "text/x-python",
   "name": "python",
   "nbconvert_exporter": "python",
   "pygments_lexer": "ipython3",
   "version": "3.10.13"
  }
 },
 "nbformat": 4,
 "nbformat_minor": 2
}
